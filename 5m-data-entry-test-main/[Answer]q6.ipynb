{
 "cells": [
  {
   "cell_type": "code",
   "execution_count": 1,
   "id": "31248b59",
   "metadata": {},
   "outputs": [],
   "source": [
    "def find_first_negative(lst):\n",
    "    #Starts off from the first index position which is 0\n",
    "    i = 0\n",
    "    #Checking i against the length of the list\n",
    "    while i < (len(lst)):\n",
    "        #To check if i is negative value\n",
    "        if lst[i] < 0:\n",
    "            return lst[i]\n",
    "        #Iterate through the list with an increment of 1\n",
    "        i += 1\n",
    "    return \"No negatives\""
   ]
  },
  {
   "cell_type": "code",
   "execution_count": 2,
   "id": "5fde13e8",
   "metadata": {},
   "outputs": [
    {
     "data": {
      "text/plain": [
       "-1"
      ]
     },
     "execution_count": 2,
     "metadata": {},
     "output_type": "execute_result"
    }
   ],
   "source": [
    "find_first_negative([3, 5, -1, 7, -2, 8])"
   ]
  },
  {
   "cell_type": "code",
   "execution_count": 3,
   "id": "5ed9117d",
   "metadata": {},
   "outputs": [
    {
     "data": {
      "text/plain": [
       "'No negatives'"
      ]
     },
     "execution_count": 3,
     "metadata": {},
     "output_type": "execute_result"
    }
   ],
   "source": [
    "find_first_negative([2, 10, 7, 0])"
   ]
  }
 ],
 "metadata": {
  "kernelspec": {
   "display_name": "Python 3 (ipykernel)",
   "language": "python",
   "name": "python3"
  },
  "language_info": {
   "codemirror_mode": {
    "name": "ipython",
    "version": 3
   },
   "file_extension": ".py",
   "mimetype": "text/x-python",
   "name": "python",
   "nbconvert_exporter": "python",
   "pygments_lexer": "ipython3",
   "version": "3.11.5"
  }
 },
 "nbformat": 4,
 "nbformat_minor": 5
}
