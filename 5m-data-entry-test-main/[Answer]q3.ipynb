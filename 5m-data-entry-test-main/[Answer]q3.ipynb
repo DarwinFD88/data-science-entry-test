{
 "cells": [
  {
   "cell_type": "code",
   "execution_count": 1,
   "id": "95ea3ef4",
   "metadata": {},
   "outputs": [],
   "source": [
    "def update_dictionary(dct, key, value):\n",
    "    dct[key] = value\n",
    "    return dct"
   ]
  },
  {
   "cell_type": "code",
   "execution_count": 2,
   "id": "c957101e",
   "metadata": {},
   "outputs": [
    {
     "data": {
      "text/plain": [
       "{'name': 'Alice'}"
      ]
     },
     "execution_count": 2,
     "metadata": {},
     "output_type": "execute_result"
    }
   ],
   "source": [
    "update_dictionary({}, \"name\", \"Alice\")"
   ]
  },
  {
   "cell_type": "code",
   "execution_count": 3,
   "id": "f7cc27e1",
   "metadata": {},
   "outputs": [
    {
     "data": {
      "text/plain": [
       "{'age': 26}"
      ]
     },
     "execution_count": 3,
     "metadata": {},
     "output_type": "execute_result"
    }
   ],
   "source": [
    "update_dictionary({\"age\": 25}, \"age\", 26)"
   ]
  }
 ],
 "metadata": {
  "kernelspec": {
   "display_name": "Python 3 (ipykernel)",
   "language": "python",
   "name": "python3"
  },
  "language_info": {
   "codemirror_mode": {
    "name": "ipython",
    "version": 3
   },
   "file_extension": ".py",
   "mimetype": "text/x-python",
   "name": "python",
   "nbconvert_exporter": "python",
   "pygments_lexer": "ipython3",
   "version": "3.11.5"
  }
 },
 "nbformat": 4,
 "nbformat_minor": 5
}
