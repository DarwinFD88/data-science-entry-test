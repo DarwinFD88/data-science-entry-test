{
 "cells": [
  {
   "cell_type": "code",
   "execution_count": 11,
   "id": "a147036b",
   "metadata": {},
   "outputs": [],
   "source": [
    "def string_reverse(s):\n",
    "    #First I want to check if input for 's' is a string\n",
    "    if type(s) == str:\n",
    "    #If 's' is indeed a string, then I want to return 's' in reverse by slicing that starts from the end of the string; moves backward by -1 step\n",
    "        return s[::-1]\n",
    "    else:\n",
    "    #If 's' is not a string; I want to print a message saying that 's' is not a string\n",
    "        print('This is not a string')"
   ]
  },
  {
   "cell_type": "code",
   "execution_count": 12,
   "id": "144bbc3a",
   "metadata": {},
   "outputs": [
    {
     "data": {
      "text/plain": [
       "'dlroW olleH'"
      ]
     },
     "execution_count": 12,
     "metadata": {},
     "output_type": "execute_result"
    }
   ],
   "source": [
    "string_reverse(\"Hello World\")"
   ]
  },
  {
   "cell_type": "code",
   "execution_count": 13,
   "id": "9799dccf",
   "metadata": {},
   "outputs": [
    {
     "data": {
      "text/plain": [
       "'nohtyP'"
      ]
     },
     "execution_count": 13,
     "metadata": {},
     "output_type": "execute_result"
    }
   ],
   "source": [
    "string_reverse(\"Python\")"
   ]
  },
  {
   "cell_type": "code",
   "execution_count": null,
   "id": "8439e43e",
   "metadata": {},
   "outputs": [],
   "source": []
  }
 ],
 "metadata": {
  "kernelspec": {
   "display_name": "Python 3 (ipykernel)",
   "language": "python",
   "name": "python3"
  },
  "language_info": {
   "codemirror_mode": {
    "name": "ipython",
    "version": 3
   },
   "file_extension": ".py",
   "mimetype": "text/x-python",
   "name": "python",
   "nbconvert_exporter": "python",
   "pygments_lexer": "ipython3",
   "version": "3.11.5"
  }
 },
 "nbformat": 4,
 "nbformat_minor": 5
}
