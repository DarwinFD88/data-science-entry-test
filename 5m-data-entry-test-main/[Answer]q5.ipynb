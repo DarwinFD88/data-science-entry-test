{
 "cells": [
  {
   "cell_type": "code",
   "execution_count": 1,
   "id": "ee578f29",
   "metadata": {},
   "outputs": [],
   "source": [
    "def check_divisibility(num, divisor):      \n",
    "    #To check if the remaining value after division is 0, using the modulus operator (%)\n",
    "    if num % divisor == 0:\n",
    "        #If yes, then num is divisible by divisor\n",
    "        return True        \n",
    "    #Otherwise\n",
    "    else:\n",
    "        return False"
   ]
  },
  {
   "cell_type": "code",
   "execution_count": 2,
   "id": "2b39c73f",
   "metadata": {},
   "outputs": [
    {
     "data": {
      "text/plain": [
       "True"
      ]
     },
     "execution_count": 2,
     "metadata": {},
     "output_type": "execute_result"
    }
   ],
   "source": [
    "check_divisibility(10, 2)"
   ]
  },
  {
   "cell_type": "code",
   "execution_count": 3,
   "id": "fb3e7e7e",
   "metadata": {},
   "outputs": [
    {
     "data": {
      "text/plain": [
       "False"
      ]
     },
     "execution_count": 3,
     "metadata": {},
     "output_type": "execute_result"
    }
   ],
   "source": [
    "check_divisibility(7, 3)"
   ]
  }
 ],
 "metadata": {
  "kernelspec": {
   "display_name": "Python 3 (ipykernel)",
   "language": "python",
   "name": "python3"
  },
  "language_info": {
   "codemirror_mode": {
    "name": "ipython",
    "version": 3
   },
   "file_extension": ".py",
   "mimetype": "text/x-python",
   "name": "python",
   "nbconvert_exporter": "python",
   "pygments_lexer": "ipython3",
   "version": "3.11.5"
  }
 },
 "nbformat": 4,
 "nbformat_minor": 5
}
